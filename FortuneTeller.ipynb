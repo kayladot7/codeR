{
 "cells": [
  {
   "cell_type": "code",
   "execution_count": 1,
   "metadata": {},
   "outputs": [],
   "source": [
    "listing <- list(\"000 : Cẩn thận kẻo bị khiển trách\",\n",
    "                \"001 : Đang có người yêu thầm bạn\",\n",
    "                \"002 : Bạn sẽ có tin buồn\",\n",
    "                \"010 : Có người đang lừa dối bạn\",\n",
    "                \"011 : Có người đang xúc phạm đến danh dự của bạn\",\n",
    "                \"012 : Người ta đang làm bạn rất khó xử\",\n",
    "                \"020 : Bạn sẽ được người ta tặng quà\",\n",
    "                \"021 : Bạn đang cảm thấy đau khổ vì sự ra đi của một người\",\n",
    "                \"022 : Bạn có tin tức từ một người ở xa\",\n",
    "                \"100 : Người ấy đang đau khổ vì bạn\",\n",
    "                \"101 : Bạn hãy ở nhà, không nên đi đâu cả\",\n",
    "                \"102 : Bạn hãy cẩn thận không được chủ quan\",\n",
    "                \"110 : Có người muốn có được tình yêu bạn\",\n",
    "                \"111 : Bạn cần cẩn thận trước mọi việc\",\n",
    "                \"112 : Đang có người đơn phương yêu bạn\",\n",
    "                \"120 : Ước mơ của bạn không được như ý muốn\",\n",
    "                \"121 : Mọi việc của bạn đang thành công tốt đẹp\",\n",
    "                \"122 : Bạn đang tự làm khổ chính mình\",\n",
    "                \"200 : Có người đang đau khổ vì sự lạnh nhạt của bạn\",\n",
    "                \"201 : Cần cẩn trọng trước khi quyết định điều gì\",\n",
    "                \"202 : Người ấy đang nhớ về bạn\",\n",
    "                \"210 : Bạn sắp có tin vui\",\n",
    "                \"211 : Người ấy đang ghét bạn\",\n",
    "                \"212 : Người ấy đang mong được gặp bạn\",\n",
    "                \"220 : Bạn sắp có người yêu\",\n",
    "                \"221 : Bạn không cần phải suy nghĩ nhiều\",\n",
    "                \"222 : Người ấy đang một lòng với bạn\")"
   ]
  },
  {
   "cell_type": "code",
   "execution_count": 2,
   "metadata": {},
   "outputs": [],
   "source": [
    "names(listing) <- c(\"000\",\"001\",\"002\",\"010\",\"011\",\"012\",\"020\",\"021\",\"022\",\"100\",\"101\",\"102\",\"110\",\"111\",\"112\",\n",
    "                  \"120\",\"121\",\"122\",\"200\",\"201\",\"202\",\"210\",\"211\",\"212\",\"220\",\"221\",\"222\")"
   ]
  },
  {
   "cell_type": "code",
   "execution_count": 3,
   "metadata": {},
   "outputs": [
    {
     "name": "stdout",
     "output_type": "stream",
     "text": [
      "Please input: ///////////////\n",
      "Please input: //////////////////////////\n",
      "Please input: ////////////////////////////////\n",
      "022"
     ]
    }
   ],
   "source": [
    "for(i in 1:3){\n",
    "    n <- readline(\"Please input: \")\n",
    "    for(i in n){\n",
    "        if(nchar(n) %% 3 == 0){\n",
    "            p <- 0\n",
    "        }else if(nchar(n) %% 3 == 1){\n",
    "            p <- 1\n",
    "        }else if(nchar(n) %% 3 == 2){\n",
    "            p <- 2\n",
    "        }\n",
    "    }\n",
    "    cat(p)\n",
    "}"
   ]
  },
  {
   "cell_type": "code",
   "execution_count": 5,
   "metadata": {},
   "outputs": [
    {
     "data": {
      "text/html": [
       "'022 : Bạn có tin tức từ một người ở xa'"
      ],
      "text/latex": [
       "'022 : Bạn có tin tức từ một người ở xa'"
      ],
      "text/markdown": [
       "'022 : Bạn có tin tức từ một người ở xa'"
      ],
      "text/plain": [
       "[1] \"022 : Bạn có tin tức từ một người ở xa\""
      ]
     },
     "metadata": {},
     "output_type": "display_data"
    }
   ],
   "source": [
    "listing$\"022\""
   ]
  },
  {
   "cell_type": "code",
   "execution_count": null,
   "metadata": {},
   "outputs": [],
   "source": []
  }
 ],
 "metadata": {
  "kernelspec": {
   "display_name": "R",
   "language": "R",
   "name": "ir"
  },
  "language_info": {
   "codemirror_mode": "r",
   "file_extension": ".r",
   "mimetype": "text/x-r-source",
   "name": "R",
   "pygments_lexer": "r",
   "version": "4.0.2"
  }
 },
 "nbformat": 4,
 "nbformat_minor": 2
}
